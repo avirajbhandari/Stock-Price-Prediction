{
 "cells": [
  {
   "cell_type": "markdown",
   "id": "49c7c9e1-3c28-4a98-8f64-c1afb1ba92ff",
   "metadata": {},
   "source": [
    "# Model 1"
   ]
  },
  {
   "cell_type": "markdown",
   "id": "45f9f6bc-8405-47ce-99cc-d1cc7afe31c4",
   "metadata": {},
   "source": [
    "## Arima"
   ]
  },
  {
   "cell_type": "code",
   "execution_count": 1,
   "id": "9232547c-70e2-48eb-a5c5-1d1bd3005094",
   "metadata": {},
   "outputs": [
    {
     "ename": "ModuleNotFoundError",
     "evalue": "No module named 'statsmodels'",
     "output_type": "error",
     "traceback": [
      "\u001b[1;31m---------------------------------------------------------------------------\u001b[0m",
      "\u001b[1;31mModuleNotFoundError\u001b[0m                       Traceback (most recent call last)",
      "Cell \u001b[1;32mIn[1], line 4\u001b[0m\n\u001b[0;32m      2\u001b[0m \u001b[38;5;28;01mimport\u001b[39;00m\u001b[38;5;250m \u001b[39m\u001b[38;5;21;01mnumpy\u001b[39;00m\u001b[38;5;250m \u001b[39m\u001b[38;5;28;01mas\u001b[39;00m\u001b[38;5;250m \u001b[39m\u001b[38;5;21;01mnp\u001b[39;00m\n\u001b[0;32m      3\u001b[0m \u001b[38;5;28;01mimport\u001b[39;00m\u001b[38;5;250m \u001b[39m\u001b[38;5;21;01mmatplotlib\u001b[39;00m\u001b[38;5;21;01m.\u001b[39;00m\u001b[38;5;21;01mpyplot\u001b[39;00m\u001b[38;5;250m \u001b[39m\u001b[38;5;28;01mas\u001b[39;00m\u001b[38;5;250m \u001b[39m\u001b[38;5;21;01mplt\u001b[39;00m\n\u001b[1;32m----> 4\u001b[0m \u001b[38;5;28;01mimport\u001b[39;00m\u001b[38;5;250m \u001b[39m\u001b[38;5;21;01mstatsmodels\u001b[39;00m\u001b[38;5;21;01m.\u001b[39;00m\u001b[38;5;21;01mapi\u001b[39;00m\u001b[38;5;250m \u001b[39m\u001b[38;5;28;01mas\u001b[39;00m\u001b[38;5;250m \u001b[39m\u001b[38;5;21;01msm\u001b[39;00m\n\u001b[0;32m      5\u001b[0m \u001b[38;5;28;01mfrom\u001b[39;00m\u001b[38;5;250m \u001b[39m\u001b[38;5;21;01mstatsmodels\u001b[39;00m\u001b[38;5;21;01m.\u001b[39;00m\u001b[38;5;21;01mtsa\u001b[39;00m\u001b[38;5;21;01m.\u001b[39;00m\u001b[38;5;21;01marima\u001b[39;00m\u001b[38;5;21;01m.\u001b[39;00m\u001b[38;5;21;01mmodel\u001b[39;00m\u001b[38;5;250m \u001b[39m\u001b[38;5;28;01mimport\u001b[39;00m ARIMA\n\u001b[0;32m      6\u001b[0m \u001b[38;5;28;01mfrom\u001b[39;00m\u001b[38;5;250m \u001b[39m\u001b[38;5;21;01mstatsmodels\u001b[39;00m\u001b[38;5;21;01m.\u001b[39;00m\u001b[38;5;21;01mtsa\u001b[39;00m\u001b[38;5;21;01m.\u001b[39;00m\u001b[38;5;21;01marima\u001b[39;00m\u001b[38;5;21;01m.\u001b[39;00m\u001b[38;5;21;01mmodel\u001b[39;00m\u001b[38;5;250m \u001b[39m\u001b[38;5;28;01mimport\u001b[39;00m ARIMA\n",
      "\u001b[1;31mModuleNotFoundError\u001b[0m: No module named 'statsmodels'"
     ]
    }
   ],
   "source": [
    "import pandas as pd\n",
    "import numpy as np\n",
    "import matplotlib.pyplot as plt\n",
    "import statsmodels.api as sm\n",
    "from statsmodels.tsa.arima.model import ARIMA\n",
    "from statsmodels.tsa.arima.model import ARIMA\n",
    "from statsmodels.graphics.tsaplots import plot_acf, plot_pacf"
   ]
  },
  {
   "cell_type": "code",
   "execution_count": 27,
   "id": "26dc8fa1-202d-448b-9f38-d5f728d115f1",
   "metadata": {},
   "outputs": [],
   "source": [
    "data = pd.read_csv(\"/home/student/suahmad/Richter_Final/Main_files/main.csv\")"
   ]
  },
  {
   "cell_type": "code",
   "execution_count": 28,
   "id": "bcc70e7d-0d10-44e1-8b5d-cbc8f547af7d",
   "metadata": {},
   "outputs": [],
   "source": [
    "rt = data[['DATE','Returns']]"
   ]
  },
  {
   "cell_type": "code",
   "execution_count": 29,
   "id": "68bdccda-47df-4981-a8ea-d31dac4633f7",
   "metadata": {},
   "outputs": [],
   "source": [
    "rt.set_index('DATE', inplace=True)"
   ]
  },
  {
   "cell_type": "code",
   "execution_count": 30,
   "id": "016844ac-cb22-4d80-9e18-2ae826fee8b3",
   "metadata": {},
   "outputs": [
    {
     "data": {
      "text/html": [
       "<div>\n",
       "<style scoped>\n",
       "    .dataframe tbody tr th:only-of-type {\n",
       "        vertical-align: middle;\n",
       "    }\n",
       "\n",
       "    .dataframe tbody tr th {\n",
       "        vertical-align: top;\n",
       "    }\n",
       "\n",
       "    .dataframe thead th {\n",
       "        text-align: right;\n",
       "    }\n",
       "</style>\n",
       "<table border=\"1\" class=\"dataframe\">\n",
       "  <thead>\n",
       "    <tr style=\"text-align: right;\">\n",
       "      <th></th>\n",
       "      <th>Returns</th>\n",
       "    </tr>\n",
       "    <tr>\n",
       "      <th>DATE</th>\n",
       "      <th></th>\n",
       "    </tr>\n",
       "  </thead>\n",
       "  <tbody>\n",
       "    <tr>\n",
       "      <th>1990-01-01</th>\n",
       "      <td>NaN</td>\n",
       "    </tr>\n",
       "    <tr>\n",
       "      <th>1990-01-02</th>\n",
       "      <td>2.119077</td>\n",
       "    </tr>\n",
       "    <tr>\n",
       "      <th>1990-01-03</th>\n",
       "      <td>2.088513</td>\n",
       "    </tr>\n",
       "    <tr>\n",
       "      <th>1990-01-04</th>\n",
       "      <td>2.078325</td>\n",
       "    </tr>\n",
       "    <tr>\n",
       "      <th>1990-01-05</th>\n",
       "      <td>2.061345</td>\n",
       "    </tr>\n",
       "  </tbody>\n",
       "</table>\n",
       "</div>"
      ],
      "text/plain": [
       "             Returns\n",
       "DATE                \n",
       "1990-01-01       NaN\n",
       "1990-01-02  2.119077\n",
       "1990-01-03  2.088513\n",
       "1990-01-04  2.078325\n",
       "1990-01-05  2.061345"
      ]
     },
     "execution_count": 30,
     "metadata": {},
     "output_type": "execute_result"
    }
   ],
   "source": [
    "rt.head() "
   ]
  },
  {
   "cell_type": "code",
   "execution_count": 31,
   "id": "2eb63ef0-217a-403a-8d96-03129b7f2e12",
   "metadata": {},
   "outputs": [
    {
     "data": {
      "text/html": [
       "<div>\n",
       "<style scoped>\n",
       "    .dataframe tbody tr th:only-of-type {\n",
       "        vertical-align: middle;\n",
       "    }\n",
       "\n",
       "    .dataframe tbody tr th {\n",
       "        vertical-align: top;\n",
       "    }\n",
       "\n",
       "    .dataframe thead th {\n",
       "        text-align: right;\n",
       "    }\n",
       "</style>\n",
       "<table border=\"1\" class=\"dataframe\">\n",
       "  <thead>\n",
       "    <tr style=\"text-align: right;\">\n",
       "      <th></th>\n",
       "      <th>Returns</th>\n",
       "    </tr>\n",
       "    <tr>\n",
       "      <th>DATE</th>\n",
       "      <th></th>\n",
       "    </tr>\n",
       "  </thead>\n",
       "  <tbody>\n",
       "    <tr>\n",
       "      <th>2021-12-28</th>\n",
       "      <td>53.795998</td>\n",
       "    </tr>\n",
       "    <tr>\n",
       "      <th>2021-12-29</th>\n",
       "      <td>53.859951</td>\n",
       "    </tr>\n",
       "    <tr>\n",
       "      <th>2021-12-30</th>\n",
       "      <td>53.704628</td>\n",
       "    </tr>\n",
       "    <tr>\n",
       "      <th>2021-12-31</th>\n",
       "      <td>54.097504</td>\n",
       "    </tr>\n",
       "    <tr>\n",
       "      <th>2022-01-01</th>\n",
       "      <td>NaN</td>\n",
       "    </tr>\n",
       "  </tbody>\n",
       "</table>\n",
       "</div>"
      ],
      "text/plain": [
       "              Returns\n",
       "DATE                 \n",
       "2021-12-28  53.795998\n",
       "2021-12-29  53.859951\n",
       "2021-12-30  53.704628\n",
       "2021-12-31  54.097504\n",
       "2022-01-01        NaN"
      ]
     },
     "execution_count": 31,
     "metadata": {},
     "output_type": "execute_result"
    }
   ],
   "source": [
    "rt.tail()"
   ]
  },
  {
   "cell_type": "code",
   "execution_count": 14,
   "id": "a72c4a21-d473-4022-891b-0abf356b01fe",
   "metadata": {},
   "outputs": [
    {
     "data": {
      "image/png": "[encoded data removed]",
      "text/plain": [
       "<Figure size 1000x600 with 1 Axes>"
      ]
     },
     "metadata": {},
     "output_type": "display_data"
    }
   ],
   "source": [
    "# returns over time\n",
    "plt.figure(figsize=(10, 6))\n",
    "plt.plot(data['Returns'])\n",
    "plt.grid(True)\n",
    "plt.show()"
   ]
  },
  {
   "cell_type": "code",
   "execution_count": 32,
   "id": "08237f78-ec8e-401b-8894-6d5266d0f9e8",
   "metadata": {},
   "outputs": [],
   "source": [
    "rates = rt['Returns']"
   ]
  },
  {
   "cell_type": "code",
   "execution_count": 33,
   "id": "3d74aff7-8888-47af-9409-81efcbbce44e",
   "metadata": {},
   "outputs": [],
   "source": [
    "rates = rates.diff().dropna()"
   ]
  },
  {
   "cell_type": "code",
   "execution_count": 34,
   "id": "e682f410-2dae-4b46-990d-a2bd005bda52",
   "metadata": {},
   "outputs": [
    {
     "data": {
      "image/png": "[encoded data removed]",
      "text/plain": [
       "<Figure size 1200x600 with 2 Axes>"
      ]
     },
     "metadata": {},
     "output_type": "display_data"
    }
   ],
   "source": [
    "# Plot the ACF and PACF\n",
    "plt.figure(figsize=(12, 6))\n",
    "\n",
    "plt.subplot(121)\n",
    "plot_acf(rates, lags=40, ax=plt.gca())\n",
    "plt.title(\"ACF Plot\")\n",
    "\n",
    "plt.subplot(122)\n",
    "plot_pacf(rates, lags=40, ax=plt.gca())\n",
    "plt.title(\"PACF Plot\")\n",
    "\n",
    "plt.tight_layout()\n",
    "plt.show()"
   ]
  },
  {
   "cell_type": "code",
   "execution_count": 19,
   "id": "6b58b21d-7dd6-4563-af79-036aafc135b1",
   "metadata": {},
   "outputs": [
    {
     "data": {
      "text/plain": [
       "[<matplotlib.lines.Line2D at 0x7f19dad67fa0>]"
      ]
     },
     "execution_count": 19,
     "metadata": {},
     "output_type": "execute_result"
    },
    {
     "data": {
      "image/png": "[encoded data removed]",
      "text/plain": [
       "<Figure size 640x480 with 1 Axes>"
      ]
     },
     "metadata": {},
     "output_type": "display_data"
    }
   ],
   "source": [
    "#plt.plot(rates)"
   ]
  },
  {
   "cell_type": "code",
   "execution_count": 35,
   "id": "e4f8aa6f-c0bd-4fd3-9325-9f4f7e852969",
   "metadata": {},
   "outputs": [
    {
     "name": "stderr",
     "output_type": "stream",
     "text": [
      "/home/student/suahmad/.local/lib/python3.10/site-packages/statsmodels/tsa/base/tsa_model.py:473: ValueWarning: A date index has been provided, but it has no associated frequency information and so will be ignored when e.g. forecasting.\n",
      "  self._init_dates(dates, freq)\n",
      "/home/student/suahmad/.local/lib/python3.10/site-packages/statsmodels/tsa/base/tsa_model.py:473: ValueWarning: A date index has been provided, but it has no associated frequency information and so will be ignored when e.g. forecasting.\n",
      "  self._init_dates(dates, freq)\n",
      "/home/student/suahmad/.local/lib/python3.10/site-packages/statsmodels/tsa/base/tsa_model.py:473: ValueWarning: A date index has been provided, but it has no associated frequency information and so will be ignored when e.g. forecasting.\n",
      "  self._init_dates(dates, freq)\n",
      "/home/student/suahmad/.local/lib/python3.10/site-packages/statsmodels/base/model.py:607: ConvergenceWarning: Maximum Likelihood optimization failed to converge. Check mle_retvals\n",
      "  warnings.warn(\"Maximum Likelihood optimization failed to \"\n"
     ]
    },
    {
     "name": "stdout",
     "output_type": "stream",
     "text": [
      "                               SARIMAX Results                                \n",
      "==============================================================================\n",
      "Dep. Variable:                Returns   No. Observations:                 7749\n",
      "Model:                 ARIMA(3, 1, 4)   Log Likelihood               -1205.185\n",
      "Date:                Fri, 03 Jan 2025   AIC                           2426.370\n",
      "Time:                        15:26:23   BIC                           2482.012\n",
      "Sample:                             0   HQIC                          2445.446\n",
      "                               - 7749                                         \n",
      "Covariance Type:                  opg                                         \n",
      "==============================================================================\n",
      "                 coef    std err          z      P>|z|      [0.025      0.975]\n",
      "------------------------------------------------------------------------------\n",
      "ar.L1         -1.7040      0.033    -51.885      0.000      -1.768      -1.640\n",
      "ar.L2         -1.5518      0.056    -27.511      0.000      -1.662      -1.441\n",
      "ar.L3         -0.8057      0.033    -24.453      0.000      -0.870      -0.741\n",
      "ma.L1          0.7129      0.031     22.750      0.000       0.652       0.774\n",
      "ma.L2         -0.1287      0.030     -4.327      0.000      -0.187      -0.070\n",
      "ma.L3         -0.7410      0.030    -25.050      0.000      -0.799      -0.683\n",
      "ma.L4         -0.8414      0.031    -26.777      0.000      -0.903      -0.780\n",
      "sigma2         0.0798      0.000    197.251      0.000       0.079       0.081\n",
      "===================================================================================\n",
      "Ljung-Box (L1) (Q):                   4.43   Jarque-Bera (JB):            202391.67\n",
      "Prob(Q):                              0.04   Prob(JB):                         0.00\n",
      "Heteroskedasticity (H):               4.56   Skew:                            -0.98\n",
      "Prob(H) (two-sided):                  0.00   Kurtosis:                        27.96\n",
      "===================================================================================\n",
      "\n",
      "Warnings:\n",
      "[1] Covariance matrix calculated using the outer product of gradients (complex-step).\n"
     ]
    }
   ],
   "source": [
    "arima_model = ARIMA(rates, order=(3, 1, 4)).fit()\n",
    "\n",
    "# Display model summary\n",
    "print(arima_model.summary())"
   ]
  },
  {
   "cell_type": "code",
   "execution_count": null,
   "id": "88ccbe1e-20e1-4900-a924-7f8b41f89b80",
   "metadata": {},
   "outputs": [],
   "source": [
    "import pandas as pd\n",
    "from statsmodels.tsa.arima.model import ARIMA\n",
    "\n",
    "\n",
    "if isinstance(rates.index, pd.PeriodIndex):\n",
    "    rates.index = rates.index.to_timestamp()  # Convert PeriodIndex to DatetimeIndex\n",
    "\n",
    "arima_model = ARIMA(rates, order=(3, 1, 4)).fit()"
   ]
  },
  {
   "cell_type": "code",
   "execution_count": null,
   "id": "4450c772-e18b-4c38-b38d-7fa3328c6a21",
   "metadata": {},
   "outputs": [
    {
     "name": "stderr",
     "output_type": "stream",
     "text": [
      "/home/student/suahmad/.local/lib/python3.10/site-packages/statsmodels/tsa/base/tsa_model.py:473: ValueWarning: A date index has been provided, but it has no associated frequency information and so will be ignored when e.g. forecasting.\n",
      "  self._init_dates(dates, freq)\n",
      "/home/student/suahmad/.local/lib/python3.10/site-packages/statsmodels/tsa/base/tsa_model.py:473: ValueWarning: A date index has been provided, but it has no associated frequency information and so will be ignored when e.g. forecasting.\n",
      "  self._init_dates(dates, freq)\n",
      "/home/student/suahmad/.local/lib/python3.10/site-packages/statsmodels/tsa/base/tsa_model.py:473: ValueWarning: A date index has been provided, but it has no associated frequency information and so will be ignored when e.g. forecasting.\n",
      "  self._init_dates(dates, freq)\n",
      "/home/student/suahmad/.local/lib/python3.10/site-packages/statsmodels/base/model.py:607: ConvergenceWarning: Maximum Likelihood optimization failed to converge. Check mle_retvals\n",
      "  warnings.warn(\"Maximum Likelihood optimization failed to \"\n"
     ]
    },
    {
     "name": "stdout",
     "output_type": "stream",
     "text": [
      "2022-01-01   -0.007341\n",
      "2022-01-02    0.061566\n",
      "2022-01-03   -0.000142\n",
      "2022-01-04   -0.034495\n",
      "2022-01-05    0.064284\n",
      "                ...   \n",
      "2022-03-27    0.010422\n",
      "2022-03-28    0.011245\n",
      "2022-03-29    0.010491\n",
      "2022-03-30    0.011163\n",
      "2022-03-31    0.010525\n",
      "Name: predicted_mean, Length: 90, dtype: float64\n"
     ]
    },
    {
     "name": "stderr",
     "output_type": "stream",
     "text": [
      "/home/student/suahmad/.local/lib/python3.10/site-packages/statsmodels/tsa/base/tsa_model.py:837: ValueWarning: No supported index is available. Prediction results will be given with an integer index beginning at `start`.\n",
      "  return get_prediction_index(\n",
      "/home/student/suahmad/.local/lib/python3.10/site-packages/statsmodels/tsa/base/tsa_model.py:837: FutureWarning: No supported index is available. In the next version, calling this method in a model without a supported index will result in an exception.\n",
      "  return get_prediction_index(\n"
     ]
    }
   ],
   "source": [
    "forecast_steps = 90\n",
    "forecast = arima_model.forecast(steps=forecast_steps)\n",
    "\n",
    "forecast_dates = [rates.index[-1] + pd.Timedelta(days=i) for i in range(1, forecast_steps + 1)]\n",
    "forecast.index = forecast_dates\n",
    "\n",
    "print(forecast)"
   ]
  },
  {
   "cell_type": "code",
   "execution_count": 19,
   "id": "3a691d96-24a6-433e-8037-0d97de8d6c4e",
   "metadata": {},
   "outputs": [
    {
     "name": "stderr",
     "output_type": "stream",
     "text": [
      "/home/student/suahmad/.local/lib/python3.10/site-packages/statsmodels/tsa/base/tsa_model.py:473: ValueWarning: A date index has been provided, but it has no associated frequency information and so will be ignored when e.g. forecasting.\n",
      "  self._init_dates(dates, freq)\n",
      "/home/student/suahmad/.local/lib/python3.10/site-packages/statsmodels/tsa/base/tsa_model.py:473: ValueWarning: A date index has been provided, but it has no associated frequency information and so will be ignored when e.g. forecasting.\n",
      "  self._init_dates(dates, freq)\n",
      "/home/student/suahmad/.local/lib/python3.10/site-packages/statsmodels/tsa/base/tsa_model.py:473: ValueWarning: A date index has been provided, but it has no associated frequency information and so will be ignored when e.g. forecasting.\n",
      "  self._init_dates(dates, freq)\n",
      "/home/student/suahmad/.local/lib/python3.10/site-packages/statsmodels/base/model.py:607: ConvergenceWarning: Maximum Likelihood optimization failed to converge. Check mle_retvals\n",
      "  warnings.warn(\"Maximum Likelihood optimization failed to \"\n"
     ]
    },
    {
     "name": "stdout",
     "output_type": "stream",
     "text": [
      "                               SARIMAX Results                                \n",
      "==============================================================================\n",
      "Dep. Variable:                Returns   No. Observations:                 7749\n",
      "Model:                 ARIMA(5, 1, 4)   Log Likelihood               -1199.821\n",
      "Date:                Thu, 02 Jan 2025   AIC                           2419.642\n",
      "Time:                        23:34:33   BIC                           2489.194\n",
      "Sample:                             0   HQIC                          2443.487\n",
      "                               - 7749                                         \n",
      "Covariance Type:                  opg                                         \n",
      "==============================================================================\n",
      "                 coef    std err          z      P>|z|      [0.025      0.975]\n",
      "------------------------------------------------------------------------------\n",
      "ar.L1         -1.4918      0.043    -34.528      0.000      -1.576      -1.407\n",
      "ar.L2         -1.3130      0.059    -22.368      0.000      -1.428      -1.198\n",
      "ar.L3         -0.8320      0.031    -26.631      0.000      -0.893      -0.771\n",
      "ar.L4         -0.0409      0.008     -5.015      0.000      -0.057      -0.025\n",
      "ar.L5          0.0060      0.005      1.136      0.256      -0.004       0.016\n",
      "ma.L1          0.4769      0.043     11.034      0.000       0.392       0.562\n",
      "ma.L2         -0.1773      0.032     -5.493      0.000      -0.241      -0.114\n",
      "ma.L3         -0.4984      0.042    -11.819      0.000      -0.581      -0.416\n",
      "ma.L4         -0.8000      0.033    -24.545      0.000      -0.864      -0.736\n",
      "sigma2         0.0797      0.000    198.556      0.000       0.079       0.081\n",
      "===================================================================================\n",
      "Ljung-Box (L1) (Q):                   0.00   Jarque-Bera (JB):            210044.34\n",
      "Prob(Q):                              0.97   Prob(JB):                         0.00\n",
      "Heteroskedasticity (H):               4.55   Skew:                            -1.03\n",
      "Prob(H) (two-sided):                  0.00   Kurtosis:                        28.42\n",
      "===================================================================================\n",
      "\n",
      "Warnings:\n",
      "[1] Covariance matrix calculated using the outer product of gradients (complex-step).\n"
     ]
    }
   ],
   "source": [
    "arima_model = ARIMA(rates, order=(5, 1, 4)).fit()\n",
    "\n",
    "# Display model summary\n",
    "print(arima_model.summary())"
   ]
  },
  {
   "cell_type": "code",
   "execution_count": null,
   "id": "d38e87d0-7060-4afa-99ed-ef30ff9e14a1",
   "metadata": {},
   "outputs": [],
   "source": [
    "import pandas as pd\n",
    "from statsmodels.tsa.arima.model import ARIMA\n",
    "\n",
    "\n",
    "if isinstance(rates.index, pd.PeriodIndex):\n",
    "    rates.index = rates.index.to_timestamp()  # Convert PeriodIndex to DatetimeIndex\n",
    "\n",
    "arima_model = ARIMA(rates, order=(5, 1, 4)).fit()"
   ]
  },
  {
   "cell_type": "code",
   "execution_count": null,
   "id": "b524ae8d-ea42-4846-a998-229ee67e9c36",
   "metadata": {},
   "outputs": [
    {
     "name": "stderr",
     "output_type": "stream",
     "text": [
      "/home/student/suahmad/.local/lib/python3.10/site-packages/statsmodels/tsa/base/tsa_model.py:473: ValueWarning: A date index has been provided, but it has no associated frequency information and so will be ignored when e.g. forecasting.\n",
      "  self._init_dates(dates, freq)\n",
      "/home/student/suahmad/.local/lib/python3.10/site-packages/statsmodels/tsa/base/tsa_model.py:473: ValueWarning: A date index has been provided, but it has no associated frequency information and so will be ignored when e.g. forecasting.\n",
      "  self._init_dates(dates, freq)\n",
      "/home/student/suahmad/.local/lib/python3.10/site-packages/statsmodels/tsa/base/tsa_model.py:473: ValueWarning: A date index has been provided, but it has no associated frequency information and so will be ignored when e.g. forecasting.\n",
      "  self._init_dates(dates, freq)\n",
      "/home/student/suahmad/.local/lib/python3.10/site-packages/statsmodels/base/model.py:607: ConvergenceWarning: Maximum Likelihood optimization failed to converge. Check mle_retvals\n",
      "  warnings.warn(\"Maximum Likelihood optimization failed to \"\n"
     ]
    },
    {
     "name": "stdout",
     "output_type": "stream",
     "text": [
      "2022-01-01   -0.029546\n",
      "2022-01-02    0.048943\n",
      "2022-01-03    0.022298\n",
      "2022-01-04   -0.047634\n",
      "2022-01-05    0.046944\n",
      "                ...   \n",
      "2022-03-27    0.007549\n",
      "2022-03-28    0.010524\n",
      "2022-03-29    0.007639\n",
      "2022-03-30    0.010439\n",
      "2022-03-31    0.007719\n",
      "Name: predicted_mean, Length: 90, dtype: float64\n"
     ]
    },
    {
     "name": "stderr",
     "output_type": "stream",
     "text": [
      "/home/student/suahmad/.local/lib/python3.10/site-packages/statsmodels/tsa/base/tsa_model.py:837: ValueWarning: No supported index is available. Prediction results will be given with an integer index beginning at `start`.\n",
      "  return get_prediction_index(\n",
      "/home/student/suahmad/.local/lib/python3.10/site-packages/statsmodels/tsa/base/tsa_model.py:837: FutureWarning: No supported index is available. In the next version, calling this method in a model without a supported index will result in an exception.\n",
      "  return get_prediction_index(\n"
     ]
    }
   ],
   "source": [
    "forecast_steps = 90\n",
    "forecast = arima_model.forecast(steps=forecast_steps)\n",
    "\n",
    "forecast_dates = [rates.index[-1] + pd.Timedelta(days=i) for i in range(1, forecast_steps + 1)]\n",
    "forecast.index = forecast_dates\n",
    "\n",
    "print(forecast)"
   ]
  },
  {
   "cell_type": "code",
   "execution_count": 23,
   "id": "b0dd79e9-25f7-4829-b4df-8aaf29cd263e",
   "metadata": {},
   "outputs": [],
   "source": [
    "import yfinance as yf\n",
    "tickerSymbol = 'KO'"
   ]
  },
  {
   "cell_type": "code",
   "execution_count": 24,
   "id": "c20db5e8-ecbb-4e43-ab92-f61b0f4135f7",
   "metadata": {},
   "outputs": [
    {
     "data": {
      "text/html": [
       "<div>\n",
       "<style scoped>\n",
       "    .dataframe tbody tr th:only-of-type {\n",
       "        vertical-align: middle;\n",
       "    }\n",
       "\n",
       "    .dataframe tbody tr th {\n",
       "        vertical-align: top;\n",
       "    }\n",
       "\n",
       "    .dataframe thead th {\n",
       "        text-align: right;\n",
       "    }\n",
       "</style>\n",
       "<table border=\"1\" class=\"dataframe\">\n",
       "  <thead>\n",
       "    <tr style=\"text-align: right;\">\n",
       "      <th></th>\n",
       "      <th>DATE</th>\n",
       "      <th>Returns</th>\n",
       "    </tr>\n",
       "  </thead>\n",
       "  <tbody>\n",
       "    <tr>\n",
       "      <th>0</th>\n",
       "      <td>2022-01-03</td>\n",
       "      <td>54.590664</td>\n",
       "    </tr>\n",
       "    <tr>\n",
       "      <th>1</th>\n",
       "      <td>2022-01-04</td>\n",
       "      <td>55.502037</td>\n",
       "    </tr>\n",
       "    <tr>\n",
       "      <th>2</th>\n",
       "      <td>2022-01-05</td>\n",
       "      <td>55.962337</td>\n",
       "    </tr>\n",
       "    <tr>\n",
       "      <th>3</th>\n",
       "      <td>2022-01-06</td>\n",
       "      <td>55.667751</td>\n",
       "    </tr>\n",
       "    <tr>\n",
       "      <th>4</th>\n",
       "      <td>2022-01-07</td>\n",
       "      <td>55.538872</td>\n",
       "    </tr>\n",
       "  </tbody>\n",
       "</table>\n",
       "</div>"
      ],
      "text/plain": [
       "         DATE    Returns\n",
       "0  2022-01-03  54.590664\n",
       "1  2022-01-04  55.502037\n",
       "2  2022-01-05  55.962337\n",
       "3  2022-01-06  55.667751\n",
       "4  2022-01-07  55.538872"
      ]
     },
     "execution_count": 24,
     "metadata": {},
     "output_type": "execute_result"
    }
   ],
   "source": [
    "# Get data for the ticker\n",
    "tickerData = yf.Ticker(tickerSymbol)\n",
    "\n",
    "# Get the historical prices for the ticker\n",
    "stock = tickerData.history(start='2022-01-01', end='2023-01-01')\n",
    "\n",
    "# Select the 'Close' price column\n",
    "stock = stock[['Close']]\n",
    "\n",
    "# Reset the index to convert the date index into a column\n",
    "stock.reset_index(inplace=True)\n",
    "\n",
    "# Format the date column to yyyymmdd\n",
    "stock['Date'] = stock['Date'].dt.strftime('%Y-%m-%d')\n",
    "\n",
    "# Rename the index from 'Date' to 'DATE'\n",
    "stock.rename(columns={'Date': 'DATE'}, inplace=True)\n",
    "stock.rename(columns={'Close': 'Returns'}, inplace=True)\n",
    "\n",
    "# See the data\n",
    "stock.head()"
   ]
  },
  {
   "cell_type": "code",
   "execution_count": null,
   "id": "46bfdd4b-ea1b-4be3-9619-77586c052131",
   "metadata": {},
   "outputs": [],
   "source": []
  }
 ],
 "metadata": {
  "kernelspec": {
   "display_name": "Python 3",
   "language": "python",
   "name": "python3"
  },
  "language_info": {
   "codemirror_mode": {
    "name": "ipython",
    "version": 3
   },
   "file_extension": ".py",
   "mimetype": "text/x-python",
   "name": "python",
   "nbconvert_exporter": "python",
   "pygments_lexer": "ipython3",
   "version": "3.13.0"
  }
 },
 "nbformat": 4,
 "nbformat_minor": 5
}
